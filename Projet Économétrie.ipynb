{
 "cells": [
  {
   "cell_type": "markdown",
   "metadata": {},
   "source": [
    "# Projet Econométrie financière"
   ]
  },
  {
   "cell_type": "markdown",
   "metadata": {},
   "source": [
    "** Hamada ZEINE & Ismail ABD EL VETTAH **"
   ]
  },
  {
   "cell_type": "markdown",
   "metadata": {},
   "source": [
    "# Pricing a Call option for a garch process"
   ]
  },
  {
   "cell_type": "code",
   "execution_count": 26,
   "metadata": {},
   "outputs": [],
   "source": [
    "import numpy as np\n",
    "\n",
    "Omega = 0.0994 #GARCH Parameter Omega\n",
    "beta = 0.7162 #GARCH Parameter associated with lagged variance term\n",
    "alpha = 0.1883 #GARCH Parameter associated with lagged innovation\n",
    "lamba = 0 #Risk premium\n",
    "H0 = Omega/(1-(1+lamba)*alpha-beta) #initial variance\n",
    "\n",
    "S0 = 1 #initial stock price\n",
    "K = 1 #strike price\n",
    "r = 0.05 #risk-free interest rate\n",
    "t = 0 #start time\n",
    "Td = 250 #time in days\n",
    "#i = 10000 #number of simulations\n",
    "# discount_factor = np.exp(-r*(Td/365)) #discount factor\n",
    "dt = np.dtype(np.float16)\n",
    "\n",
    "h = np.zeros([Td], dtype = dt)\n",
    "e = np.zeros([Td], dtype = dt)\n",
    "t = range(0,Td,1)\n",
    "S = S0*np.ones([Td], dtype = dt)\n",
    "z = np.random.standard_normal([Td])\n"
   ]
  },
  {
   "cell_type": "code",
   "execution_count": 21,
   "metadata": {},
   "outputs": [],
   "source": [
    "h[0] = H0\n",
    "e[0] = H0*np.random.normal(0,1,)\n",
    "for y in range(0,Td-1):\n",
    "    h[y+1] = Omega + h[y]*beta + alpha*h[y]*z[y]**2\n",
    "    e[y+1] = np.sqrt(h[y+1])*z[y+1]"
   ]
  },
  {
   "cell_type": "code",
   "execution_count": 22,
   "metadata": {},
   "outputs": [],
   "source": [
    "P=np.ones([Td], dtype = dt)\n",
    "for x in range(0,Td):\n",
    "    P[x] = np.exp(e[range(x)].sum())"
   ]
  },
  {
   "cell_type": "code",
   "execution_count": 23,
   "metadata": {},
   "outputs": [],
   "source": [
    "PP=P.copy()"
   ]
  },
  {
   "cell_type": "code",
   "execution_count": 24,
   "metadata": {},
   "outputs": [],
   "source": [
    "# à t = 0 the price of the call option\n",
    "for x in range(0,Td):\n",
    "    PP[x] = np.maximum(PP[x] - K, 0)\n",
    "\n",
    "CallPrice = np.exp(-r*Td)*np.average(PP)"
   ]
  },
  {
   "cell_type": "code",
   "execution_count": 25,
   "metadata": {},
   "outputs": [
    {
     "data": {
      "text/plain": [
       "0.0002857877151337831"
      ]
     },
     "execution_count": 25,
     "metadata": {},
     "output_type": "execute_result"
    }
   ],
   "source": [
    "CallPrice"
   ]
  },
  {
   "cell_type": "markdown",
   "metadata": {},
   "source": [
    "# Monte Carlo Simulation"
   ]
  },
  {
   "cell_type": "code",
   "execution_count": 7,
   "metadata": {},
   "outputs": [],
   "source": [
    "def rendement(s):\n",
    "    res=np.zeros(len(s))+1\n",
    "    for i in range(1,len(s)):\n",
    "        res[i]=np.log(s[i]/s[i-1])\n",
    "    return res"
   ]
  },
  {
   "cell_type": "code",
   "execution_count": 8,
   "metadata": {},
   "outputs": [],
   "source": [
    "R=rendement(P)"
   ]
  },
  {
   "cell_type": "code",
   "execution_count": 9,
   "metadata": {},
   "outputs": [
    {
     "data": {
      "text/plain": [
       "-0.006807113647460937"
      ]
     },
     "execution_count": 9,
     "metadata": {},
     "output_type": "execute_result"
    }
   ],
   "source": [
    "np.average(R)"
   ]
  },
  {
   "cell_type": "markdown",
   "metadata": {},
   "source": [
    "# Numerically study how the price the option depends on the value of the ratio S/K(the ratio S/K could range from 0.5 to 2)"
   ]
  },
  {
   "cell_type": "code",
   "execution_count": 10,
   "metadata": {},
   "outputs": [],
   "source": [
    "from math import exp, log, sqrt, pi"
   ]
  },
  {
   "cell_type": "code",
   "execution_count": 11,
   "metadata": {},
   "outputs": [],
   "source": [
    "from scipy.stats import norm"
   ]
  },
  {
   "cell_type": "code",
   "execution_count": 12,
   "metadata": {},
   "outputs": [],
   "source": [
    "def d_j(j, S, K, r, v, T):\n",
    "    \"\"\"\n",
    "    d_j = \\frac{log(\\frac{S}{K})+(r+(-1)^{j-1} \\frac{1}{2}v^2)T}{v sqrt(T)}\n",
    "    \"\"\"\n",
    "    return (log(S/K) + (r + ((-1)**(j-1))*0.5*v*v)*T)/(v*(T**0.5))\n",
    "def GARCH_call_price(S, K, r, v, T):\n",
    "    \"\"\"\n",
    "    Price of a European call option struck at K, with\n",
    "    spot S, constant rate r, constant vol v (over the\n",
    "    life of the option) and time to maturity T\n",
    "    \"\"\"\n",
    "    return S * norm.cdf(d_j(1, S, K, r, v, T)) - \\\n",
    "        K*exp(-r*T) * norm.cdf(d_j(2, S, K, r, v, T))"
   ]
  },
  {
   "cell_type": "code",
   "execution_count": 13,
   "metadata": {},
   "outputs": [],
   "source": [
    "s=np.arange(1,20)\n",
    "k=np.arange(1,20)\n",
    "res=np.array([1,1])\n",
    "for i in np.arange(len(s)):\n",
    "    for j in np.arange(len(k)):\n",
    "        if s[i]/k[j]>0.2 and s[i]/k[j]<=2:\n",
    "            res = np.vstack([res, [s[i],k[j]]])"
   ]
  },
  {
   "cell_type": "code",
   "execution_count": 14,
   "metadata": {},
   "outputs": [],
   "source": [
    "s_k=res[1:]\n",
    "#matrix2.remove(matrix[0])"
   ]
  },
  {
   "cell_type": "code",
   "execution_count": 15,
   "metadata": {},
   "outputs": [
    {
     "data": {
      "text/plain": [
       "(250, 2)"
      ]
     },
     "execution_count": 15,
     "metadata": {},
     "output_type": "execute_result"
    }
   ],
   "source": [
    "s_k.shape"
   ]
  },
  {
   "cell_type": "code",
   "execution_count": 16,
   "metadata": {},
   "outputs": [],
   "source": [
    "r_values = np.zeros(s_k.shape[0])\n",
    "for i in np.arange(s_k.shape[0]):\n",
    "    r_values[i]=s_k[i,0]/s_k[i,1]"
   ]
  },
  {
   "cell_type": "code",
   "execution_count": 17,
   "metadata": {},
   "outputs": [],
   "source": [
    "call_values = np.zeros(s_k.shape[0])\n",
    "for i in np.arange(s_k.shape[0]):\n",
    "    call_values[i] = GARCH_call_price(s_k[i,0], s_k[i,1], r=0.05, v=5, T=250)\n"
   ]
  },
  {
   "cell_type": "code",
   "execution_count": 19,
   "metadata": {},
   "outputs": [
    {
     "data": {
      "image/png": "[encoded data removed]",
      "text/plain": [
       "<Figure size 432x288 with 1 Axes>"
      ]
     },
     "metadata": {},
     "output_type": "display_data"
    }
   ],
   "source": [
    "import matplotlib.pyplot as plt\n",
    "\n",
    "\n",
    "plt.scatter(r_values, call_values)\n",
    "plt.show()"
   ]
  },
  {
   "cell_type": "markdown",
   "metadata": {},
   "source": [
    "\n",
    "# Computing the values of the implied volatility for the different values of the moneyness S/K"
   ]
  },
  {
   "cell_type": "code",
   "execution_count": 40,
   "metadata": {},
   "outputs": [],
   "source": [
    "\n",
    "impvol_values = np.zeros(s_k.shape[0])\n",
    "for i in np.arange(1,s_k.shape[0]):\n",
    "    epsilon = 1.0  #  Define variable to check stopping conditions\n",
    "    abstol = 1e-4  #  Stop calculation when abs(epsilon) < this number\n",
    "\n",
    "    j = 0   #  Variable to count number of iterations\n",
    "    max_iter = 1e3  #  Max number of iterations before aborting\n",
    "    vol = 0.5\n",
    "    while epsilon > abstol:\n",
    "    #  if-statement to avoid getting stuck in an infinite loop.\n",
    "        if j > max_iter:\n",
    "            break\n",
    "\n",
    "        j = j + 1\n",
    "        orig = vol\n",
    "        function_value=GARCH_call_price(s_k[i,0], s_k[i,1], r=0.05, v=0.5, T=250)-GARCH_call_price(s_k[0,0], s_k[0,1], r=0.05, v=0.5, T=250)\n",
    "        vega = s_k[i,0] * norm.cdf(d_j(1, S=s_k[i,0], K=s_k[i,1], r=0.05, v=0.5, T=250)) * Td**(0.5)\n",
    "        impvol_values[i] = abs(function_value)/vega + impvol_values[i-1]\n",
    "        epsilon = abs(function_value)\n",
    "    \n",
    "\n",
    "    "
   ]
  },
  {
   "cell_type": "code",
   "execution_count": 172,
   "metadata": {},
   "outputs": [
    {
     "data": {
      "image/png": "[encoded data removed]",
      "text/plain": [
       "<Figure size 432x288 with 1 Axes>"
      ]
     },
     "metadata": {},
     "output_type": "display_data"
    }
   ],
   "source": [
    "plt.scatter(r_values, impvol_values)\n",
    "plt.show()"
   ]
  }
 ],
 "metadata": {
  "kernelspec": {
   "display_name": "Python 3",
   "language": "python",
   "name": "python3"
  },
  "language_info": {
   "codemirror_mode": {
    "name": "ipython",
    "version": 3
   },
   "file_extension": ".py",
   "mimetype": "text/x-python",
   "name": "python",
   "nbconvert_exporter": "python",
   "pygments_lexer": "ipython3",
   "version": "3.6.5"
  }
 },
 "nbformat": 4,
 "nbformat_minor": 2
}
